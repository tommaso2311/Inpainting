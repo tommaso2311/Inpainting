{
  "cells": [
    {
      "attachments": {},
      "cell_type": "markdown",
      "metadata": {
        "id": "swAfyUxRMKq8"
      },
      "source": [
        "# Inpainting su CIFAR-10"
      ]
    },
    {
      "attachments": {},
      "cell_type": "markdown",
      "metadata": {},
      "source": [
        "Nome e Cognome: Tommaso Quintavalli\n",
        "\n",
        "matricola: 978152"
      ]
    },
    {
      "cell_type": "code",
      "execution_count": 1,
      "metadata": {
        "id": "Qq6l7MUHMgxi"
      },
      "outputs": [],
      "source": [
        "import tensorflow as tf\n",
        "import numpy as np\n",
        "import matplotlib.pyplot as plt\n",
        "import keras\n",
        "from keras.datasets import cifar10\n",
        "from keras import metrics, optimizers, callbacks\n",
        "from keras.layers import Input, Conv2D, Conv2DTranspose, MaxPool2D, concatenate, Flatten, Dense\n",
        "from keras.models import Model\n",
        "from keras.callbacks import LearningRateScheduler"
      ]
    },
    {
      "cell_type": "markdown",
      "metadata": {
        "id": "H-xGdSHwM-Jb"
      },
      "source": [
        "Caricamento e normalizzazione del dataset:"
      ]
    },
    {
      "cell_type": "code",
      "execution_count": 2,
      "metadata": {
        "colab": {
          "base_uri": "https://localhost:8080/"
        },
        "id": "HMKEMr_fMEpe",
        "outputId": "51c3d667-e75b-4d7c-af8f-13e179ec63f9"
      },
      "outputs": [
        {
          "name": "stdout",
          "output_type": "stream",
          "text": [
            "image range is 0, 255\n",
            "new image range is 0.0, 1.0\n"
          ]
        }
      ],
      "source": [
        "(x_train, y_train), (x_test, y_test) = cifar10.load_data()\n",
        "print(\"image range is {}, {}\".format(np.min(x_test,axis=(0,1,2,3)),np.max(x_test,axis=(0,1,2,3))))\n",
        "x_train = (x_train/255.).astype(np.float32)\n",
        "x_test = (x_test/255.).astype(np.float32)\n",
        "print(\"new image range is {}, {}\".format(np.min(x_test,axis=(0,1,2,3)),np.max(x_test,axis=(0,1,2,3))))"
      ]
    },
    {
      "cell_type": "markdown",
      "metadata": {
        "id": "nCSlJ96aNNnA"
      },
      "source": [
        "Definisco la funzione della maschera:"
      ]
    },
    {
      "cell_type": "code",
      "execution_count": 3,
      "metadata": {
        "id": "358XiRgeNVX4"
      },
      "outputs": [],
      "source": [
        "def mask(X,coords):\n",
        "  x0,y0,x1,y1 = coords\n",
        "  X[:,x0:x1,y0:y1] = 0\n",
        "  return X"
      ]
    },
    {
      "attachments": {},
      "cell_type": "markdown",
      "metadata": {
        "id": "yQsz7Wr1OUbD"
      },
      "source": [
        "# Creazione del dataset\n",
        "Prendo le immagini da CIFAR-10 e le maschero usando la funzione definita nella cella precedente.\n",
        "\n",
        "Definisco con il vettore x le immagini con la maschera e con y le immagini originali.\n",
        "\n",
        "Creo training set, test set e validation set."
      ]
    },
    {
      "cell_type": "code",
      "execution_count": 4,
      "metadata": {
        "id": "kSgmu_DlOwKL"
      },
      "outputs": [],
      "source": [
        "x_train_masked = mask(np.copy(x_train), (2,16,30,30))\n",
        "y_train = np.copy(x_train)\n",
        "\n",
        "x_test_masked = mask(np.copy(x_test), (2,16,30,30))\n",
        "y_test = np.copy(x_test)\n",
        "\n",
        "x_validation_masked = x_test_masked[:2500]\n",
        "y_validation_masked = y_test[:2500]"
      ]
    },
    {
      "attachments": {},
      "cell_type": "markdown",
      "metadata": {
        "id": "SWhy-kp3PGAW"
      },
      "source": [
        "# Creazione del modello\n",
        "Definisco un modello U-Net che alterna layer convolutivi e di MaxPooling nella fase di \"discesa\", e layer convolutivi trasposti nella fase di \"salita\"."
      ]
    },
    {
      "cell_type": "markdown",
      "metadata": {
        "id": "PC67j75mWp2p"
      },
      "source": [
        "Inoltre, definisco uno scheduler per abbassare esponenzialmente il learning rate della rete, in modo da diminuire il passo e rendere l'avvicinamento all'obiettivo più preciso."
      ]
    },
    {
      "cell_type": "code",
      "execution_count": 5,
      "metadata": {
        "id": "uSRSEkUYPbEy"
      },
      "outputs": [],
      "source": [
        "# scheduler per le epoche\n",
        "\n",
        "def lr_scheduler(epoch, lr):\n",
        "    if epoch > 8 and epoch <=12:\n",
        "        lr = lr/10\n",
        "        return lr\n",
        "    if epoch > 12:\n",
        "        lr = lr\n",
        "        return lr\n",
        "    return lr\n",
        "\n",
        "input_img = Input(shape = (32, 32, 3))\n",
        "\n",
        "# fase di discesa lungo la rete (contrazione)\n",
        "enc1 = Conv2D(32, (3,3), padding = 'same', activation = 'relu')(input_img)\n",
        "enc1 = Conv2D(32, (3,3), padding = 'same', activation = 'relu')(enc1)\n",
        "enc1 = Conv2D(32, (3,3), padding = 'same', activation = 'relu')(enc1)\n",
        "enc1 = Conv2D(32, (3,3), padding = 'same', activation = 'relu')(enc1)\n",
        "\n",
        "maxPool1 = MaxPool2D(2,2)(enc1)\n",
        "\n",
        "enc2 = Conv2D(64, (3,3), padding = 'same', activation = 'relu')(maxPool1)\n",
        "enc2 = Conv2D(64, (3,3), padding = 'same', activation = 'relu')(enc2)\n",
        "enc2 = Conv2D(64, (3,3), padding = 'same', activation = 'relu')(enc2)\n",
        "enc2 = Conv2D(64, (3,3), padding = 'same', activation = 'relu')(enc2)\n",
        "\n",
        "maxPool2 = MaxPool2D(2,2)(enc2)\n",
        "\n",
        "enc3 = Conv2D(128, (3,3), padding = 'same', activation = 'relu')(maxPool2)\n",
        "enc3 = Conv2D(128, (3,3), padding = 'same', activation = 'relu')(enc3)\n",
        "enc3 = Conv2D(128, (3,3), padding = 'same', activation = 'relu')(enc3)\n",
        "enc3 = Conv2D(128, (3,3), padding = 'same', activation = 'relu')(enc3)\n",
        "\n",
        "# vertice e inizio fase di ascesa (decontrazione)\n",
        "maxPool3 = MaxPool2D(2,2)(enc3)\n",
        "\n",
        "exp1 = Conv2DTranspose(128, (3,3), activation = 'relu', strides = 2,padding = 'same')(maxPool3)\n",
        "exp1 = Conv2D(128, (3,3), activation = 'relu',padding = 'same')(exp1)\n",
        "exp1 = Conv2D(128, (3,3), activation = 'relu',padding = 'same')(exp1)\n",
        "exp1 = Conv2D(128, (3,3), activation = 'relu',padding = 'same')(exp1)\n",
        "\n",
        "conv_exp1 = concatenate([enc3, exp1])\n",
        "\n",
        "exp2 = Conv2DTranspose(64, (3,3),activation = 'relu', strides = 2,padding = 'same')(conv_exp1)\n",
        "exp2 = Conv2D(64, (3,3),activation = 'relu',padding = 'same')(exp2)\n",
        "exp2 = Conv2D(64, (3,3),activation = 'relu',padding = 'same')(exp2)\n",
        "exp2 = Conv2D(64, (3,3),activation = 'relu',padding = 'same')(exp2)\n",
        "\n",
        "conv_exp2 = concatenate([enc2, exp2])\n",
        "\n",
        "exp3 = Conv2DTranspose(32, (3,3),activation = 'relu', strides = 2,padding = 'same')(conv_exp2)\n",
        "exp3 = Conv2D(32, (3,3),activation = 'relu', padding = 'same')(exp3)\n",
        "exp3 = Conv2D(32, (3,3),activation = 'relu', padding = 'same')(exp3)\n",
        "exp3 = Conv2D(32, (3,3),activation = 'relu', padding = 'same')(exp3)\n",
        "\n",
        "conv_exp3 = concatenate([enc1, exp3])\n",
        "\n",
        "final_output_layer = Conv2D(3, (3,3), padding = 'same', activation = 'relu')(conv_exp3)"
      ]
    },
    {
      "cell_type": "markdown",
      "metadata": {
        "id": "-3pQC5SoWp2r"
      },
      "source": [
        "Costruisco il modello:"
      ]
    },
    {
      "cell_type": "code",
      "execution_count": 6,
      "metadata": {
        "colab": {
          "base_uri": "https://localhost:8080/"
        },
        "id": "4FzRTjjcP25w",
        "outputId": "e5149426-6348-4d37-c815-a404f0b82201"
      },
      "outputs": [
        {
          "name": "stdout",
          "output_type": "stream",
          "text": [
            "Model: \"model\"\n",
            "__________________________________________________________________________________________________\n",
            " Layer (type)                   Output Shape         Param #     Connected to                     \n",
            "==================================================================================================\n",
            " input_1 (InputLayer)           [(None, 32, 32, 3)]  0           []                               \n",
            "                                                                                                  \n",
            " conv2d (Conv2D)                (None, 32, 32, 32)   896         ['input_1[0][0]']                \n",
            "                                                                                                  \n",
            " conv2d_1 (Conv2D)              (None, 32, 32, 32)   9248        ['conv2d[0][0]']                 \n",
            "                                                                                                  \n",
            " conv2d_2 (Conv2D)              (None, 32, 32, 32)   9248        ['conv2d_1[0][0]']               \n",
            "                                                                                                  \n",
            " conv2d_3 (Conv2D)              (None, 32, 32, 32)   9248        ['conv2d_2[0][0]']               \n",
            "                                                                                                  \n",
            " max_pooling2d (MaxPooling2D)   (None, 16, 16, 32)   0           ['conv2d_3[0][0]']               \n",
            "                                                                                                  \n",
            " conv2d_4 (Conv2D)              (None, 16, 16, 64)   18496       ['max_pooling2d[0][0]']          \n",
            "                                                                                                  \n",
            " conv2d_5 (Conv2D)              (None, 16, 16, 64)   36928       ['conv2d_4[0][0]']               \n",
            "                                                                                                  \n",
            " conv2d_6 (Conv2D)              (None, 16, 16, 64)   36928       ['conv2d_5[0][0]']               \n",
            "                                                                                                  \n",
            " conv2d_7 (Conv2D)              (None, 16, 16, 64)   36928       ['conv2d_6[0][0]']               \n",
            "                                                                                                  \n",
            " max_pooling2d_1 (MaxPooling2D)  (None, 8, 8, 64)    0           ['conv2d_7[0][0]']               \n",
            "                                                                                                  \n",
            " conv2d_8 (Conv2D)              (None, 8, 8, 128)    73856       ['max_pooling2d_1[0][0]']        \n",
            "                                                                                                  \n",
            " conv2d_9 (Conv2D)              (None, 8, 8, 128)    147584      ['conv2d_8[0][0]']               \n",
            "                                                                                                  \n",
            " conv2d_10 (Conv2D)             (None, 8, 8, 128)    147584      ['conv2d_9[0][0]']               \n",
            "                                                                                                  \n",
            " conv2d_11 (Conv2D)             (None, 8, 8, 128)    147584      ['conv2d_10[0][0]']              \n",
            "                                                                                                  \n",
            " max_pooling2d_2 (MaxPooling2D)  (None, 4, 4, 128)   0           ['conv2d_11[0][0]']              \n",
            "                                                                                                  \n",
            " conv2d_transpose (Conv2DTransp  (None, 8, 8, 128)   147584      ['max_pooling2d_2[0][0]']        \n",
            " ose)                                                                                             \n",
            "                                                                                                  \n",
            " conv2d_12 (Conv2D)             (None, 8, 8, 128)    147584      ['conv2d_transpose[0][0]']       \n",
            "                                                                                                  \n",
            " conv2d_13 (Conv2D)             (None, 8, 8, 128)    147584      ['conv2d_12[0][0]']              \n",
            "                                                                                                  \n",
            " conv2d_14 (Conv2D)             (None, 8, 8, 128)    147584      ['conv2d_13[0][0]']              \n",
            "                                                                                                  \n",
            " concatenate (Concatenate)      (None, 8, 8, 256)    0           ['conv2d_11[0][0]',              \n",
            "                                                                  'conv2d_14[0][0]']              \n",
            "                                                                                                  \n",
            " conv2d_transpose_1 (Conv2DTran  (None, 16, 16, 64)  147520      ['concatenate[0][0]']            \n",
            " spose)                                                                                           \n",
            "                                                                                                  \n",
            " conv2d_15 (Conv2D)             (None, 16, 16, 64)   36928       ['conv2d_transpose_1[0][0]']     \n",
            "                                                                                                  \n",
            " conv2d_16 (Conv2D)             (None, 16, 16, 64)   36928       ['conv2d_15[0][0]']              \n",
            "                                                                                                  \n",
            " conv2d_17 (Conv2D)             (None, 16, 16, 64)   36928       ['conv2d_16[0][0]']              \n",
            "                                                                                                  \n",
            " concatenate_1 (Concatenate)    (None, 16, 16, 128)  0           ['conv2d_7[0][0]',               \n",
            "                                                                  'conv2d_17[0][0]']              \n",
            "                                                                                                  \n",
            " conv2d_transpose_2 (Conv2DTran  (None, 32, 32, 32)  36896       ['concatenate_1[0][0]']          \n",
            " spose)                                                                                           \n",
            "                                                                                                  \n",
            " conv2d_18 (Conv2D)             (None, 32, 32, 32)   9248        ['conv2d_transpose_2[0][0]']     \n",
            "                                                                                                  \n",
            " conv2d_19 (Conv2D)             (None, 32, 32, 32)   9248        ['conv2d_18[0][0]']              \n",
            "                                                                                                  \n",
            " conv2d_20 (Conv2D)             (None, 32, 32, 32)   9248        ['conv2d_19[0][0]']              \n",
            "                                                                                                  \n",
            " concatenate_2 (Concatenate)    (None, 32, 32, 64)   0           ['conv2d_3[0][0]',               \n",
            "                                                                  'conv2d_20[0][0]']              \n",
            "                                                                                                  \n",
            " conv2d_21 (Conv2D)             (None, 32, 32, 3)    1731        ['concatenate_2[0][0]']          \n",
            "                                                                                                  \n",
            "==================================================================================================\n",
            "Total params: 1,589,539\n",
            "Trainable params: 1,589,539\n",
            "Non-trainable params: 0\n",
            "__________________________________________________________________________________________________\n"
          ]
        }
      ],
      "source": [
        "myNet = Model(input_img, final_output_layer)\n",
        "myNet.build(input_shape = (None, 32, 32, 3))\n",
        "myNet.summary()"
      ]
    },
    {
      "cell_type": "markdown",
      "metadata": {
        "id": "-wGtcCTBP9Zp"
      },
      "source": [
        "# Compliazione e allenamento"
      ]
    },
    {
      "cell_type": "code",
      "execution_count": 7,
      "metadata": {
        "id": "570oHeXrP7_z"
      },
      "outputs": [],
      "source": [
        "optimizers = keras.optimizers.Adam(learning_rate=0.001)\n",
        "losses = keras.losses.MeanSquaredError()\n",
        "\n",
        "myNet.compile(\n",
        "    optimizer=optimizers,\n",
        "    loss=losses,\n",
        "    metrics='mse'\n",
        ")\n",
        "callbacks = [keras.callbacks.LearningRateScheduler(lr_scheduler, verbose=1)]"
      ]
    },
    {
      "cell_type": "code",
      "execution_count": 8,
      "metadata": {
        "colab": {
          "base_uri": "https://localhost:8080/"
        },
        "id": "rgZuX-UBQEmE",
        "outputId": "d401ac28-3596-43c2-86c1-fcccd0b2b1cd"
      },
      "outputs": [
        {
          "name": "stdout",
          "output_type": "stream",
          "text": [
            "\n",
            "Epoch 1: LearningRateScheduler setting learning rate to 0.0010000000474974513.\n",
            "Epoch 1/15\n",
            "1563/1563 [==============================] - 40s 21ms/step - loss: 0.0125 - mse: 0.0125 - val_loss: 0.0093 - val_mse: 0.0093 - lr: 0.0010\n",
            "\n",
            "Epoch 2: LearningRateScheduler setting learning rate to 0.0010000000474974513.\n",
            "Epoch 2/15\n",
            "1563/1563 [==============================] - 29s 18ms/step - loss: 0.0093 - mse: 0.0093 - val_loss: 0.0097 - val_mse: 0.0097 - lr: 0.0010\n",
            "\n",
            "Epoch 3: LearningRateScheduler setting learning rate to 0.0010000000474974513.\n",
            "Epoch 3/15\n",
            "1563/1563 [==============================] - 29s 18ms/step - loss: 0.0090 - mse: 0.0090 - val_loss: 0.0086 - val_mse: 0.0086 - lr: 0.0010\n",
            "\n",
            "Epoch 4: LearningRateScheduler setting learning rate to 0.0010000000474974513.\n",
            "Epoch 4/15\n",
            "1563/1563 [==============================] - 29s 18ms/step - loss: 0.0087 - mse: 0.0087 - val_loss: 0.0087 - val_mse: 0.0087 - lr: 0.0010\n",
            "\n",
            "Epoch 5: LearningRateScheduler setting learning rate to 0.0010000000474974513.\n",
            "Epoch 5/15\n",
            "1563/1563 [==============================] - 28s 18ms/step - loss: 0.0086 - mse: 0.0086 - val_loss: 0.0085 - val_mse: 0.0085 - lr: 0.0010\n",
            "\n",
            "Epoch 6: LearningRateScheduler setting learning rate to 0.0010000000474974513.\n",
            "Epoch 6/15\n",
            "1563/1563 [==============================] - 28s 18ms/step - loss: 0.0084 - mse: 0.0084 - val_loss: 0.0083 - val_mse: 0.0083 - lr: 0.0010\n",
            "\n",
            "Epoch 7: LearningRateScheduler setting learning rate to 0.0010000000474974513.\n",
            "Epoch 7/15\n",
            "1563/1563 [==============================] - 28s 18ms/step - loss: 0.0083 - mse: 0.0083 - val_loss: 0.0082 - val_mse: 0.0082 - lr: 0.0010\n",
            "\n",
            "Epoch 8: LearningRateScheduler setting learning rate to 0.0010000000474974513.\n",
            "Epoch 8/15\n",
            "1563/1563 [==============================] - 29s 18ms/step - loss: 0.0082 - mse: 0.0082 - val_loss: 0.0081 - val_mse: 0.0081 - lr: 0.0010\n",
            "\n",
            "Epoch 9: LearningRateScheduler setting learning rate to 0.0010000000474974513.\n",
            "Epoch 9/15\n",
            "1563/1563 [==============================] - 29s 19ms/step - loss: 0.0081 - mse: 0.0081 - val_loss: 0.0086 - val_mse: 0.0086 - lr: 0.0010\n",
            "\n",
            "Epoch 10: LearningRateScheduler setting learning rate to 0.00010000000474974513.\n",
            "Epoch 10/15\n",
            "1563/1563 [==============================] - 29s 18ms/step - loss: 0.0075 - mse: 0.0075 - val_loss: 0.0079 - val_mse: 0.0079 - lr: 1.0000e-04\n",
            "\n",
            "Epoch 11: LearningRateScheduler setting learning rate to 1.0000000474974514e-05.\n",
            "Epoch 11/15\n",
            "1563/1563 [==============================] - 28s 18ms/step - loss: 0.0073 - mse: 0.0073 - val_loss: 0.0078 - val_mse: 0.0078 - lr: 1.0000e-05\n",
            "\n",
            "Epoch 12: LearningRateScheduler setting learning rate to 1.0000000656873453e-06.\n",
            "Epoch 12/15\n",
            "1563/1563 [==============================] - 32s 20ms/step - loss: 0.0073 - mse: 0.0073 - val_loss: 0.0078 - val_mse: 0.0078 - lr: 1.0000e-06\n",
            "\n",
            "Epoch 13: LearningRateScheduler setting learning rate to 1.0000001111620805e-07.\n",
            "Epoch 13/15\n",
            "1563/1563 [==============================] - 37s 24ms/step - loss: 0.0073 - mse: 0.0073 - val_loss: 0.0078 - val_mse: 0.0078 - lr: 1.0000e-07\n",
            "\n",
            "Epoch 14: LearningRateScheduler setting learning rate to 1.000000082740371e-07.\n",
            "Epoch 14/15\n",
            "1563/1563 [==============================] - 29s 19ms/step - loss: 0.0073 - mse: 0.0073 - val_loss: 0.0078 - val_mse: 0.0078 - lr: 1.0000e-07\n",
            "\n",
            "Epoch 15: LearningRateScheduler setting learning rate to 1.000000082740371e-07.\n",
            "Epoch 15/15\n",
            "1563/1563 [==============================] - 28s 18ms/step - loss: 0.0073 - mse: 0.0073 - val_loss: 0.0078 - val_mse: 0.0078 - lr: 1.0000e-07\n"
          ]
        },
        {
          "data": {
            "text/plain": [
              "<keras.callbacks.History at 0x7fb6cbb7ca00>"
            ]
          },
          "execution_count": 8,
          "metadata": {},
          "output_type": "execute_result"
        }
      ],
      "source": [
        "myNet.fit(\n",
        "    x_train_masked,\n",
        "    y_train,\n",
        "    shuffle = True,\n",
        "    epochs=15,\n",
        "    batch_size = 32,\n",
        "    callbacks=callbacks,\n",
        "    validation_data=(x_validation_masked,y_validation_masked)\n",
        ")"
      ]
    },
    {
      "cell_type": "markdown",
      "metadata": {
        "id": "EiHQ-jzZQaLl"
      },
      "source": [
        "# Testing e valutazione"
      ]
    },
    {
      "cell_type": "code",
      "execution_count": 9,
      "metadata": {
        "colab": {
          "base_uri": "https://localhost:8080/",
          "height": 816
        },
        "id": "GEF79BVYQccX",
        "outputId": "29820701-bd41-4478-b7c7-bf08c046eeca"
      },
      "outputs": [
        {
          "name": "stdout",
          "output_type": "stream",
          "text": [
            "313/313 [==============================] - 2s 6ms/step\n"
          ]
        },
        {
          "data": {
            "image/png": "[encoded data removed]",
            "text/plain": [
              "<Figure size 432x288 with 1 Axes>"
            ]
          },
          "metadata": {
            "needs_background": "light"
          },
          "output_type": "display_data"
        },
        {
          "data": {
            "image/png": "[encoded data removed]",
            "text/plain": [
              "<Figure size 432x288 with 1 Axes>"
            ]
          },
          "metadata": {
            "needs_background": "light"
          },
          "output_type": "display_data"
        },
        {
          "data": {
            "image/png": "[encoded data removed]",
            "text/plain": [
              "<Figure size 432x288 with 1 Axes>"
            ]
          },
          "metadata": {
            "needs_background": "light"
          },
          "output_type": "display_data"
        },
        {
          "name": "stdout",
          "output_type": "stream",
          "text": [
            "313/313 [==============================] - 3s 8ms/step - loss: 0.0080 - mse: 0.0080\n"
          ]
        },
        {
          "data": {
            "text/plain": [
              "[0.008017873391509056, 0.008017873391509056]"
            ]
          },
          "execution_count": 9,
          "metadata": {},
          "output_type": "execute_result"
        }
      ],
      "source": [
        "result = myNet.predict(x_test_masked)\n",
        "\n",
        "plt.imshow(x_test_masked[90])\n",
        "plt.show()\n",
        "\n",
        "plt.imshow(result[90])\n",
        "plt.show()\n",
        "\n",
        "plt.imshow(y_test[90])\n",
        "plt.show()\n",
        "\n",
        "myNet.evaluate(x_test_masked, y_test)"
      ]
    },
    {
      "cell_type": "markdown",
      "metadata": {
        "id": "qiIT8BVkWp2v"
      },
      "source": [
        "Il MSE quindi è pari a 0.008017873391509056."
      ]
    }
  ],
  "metadata": {
    "accelerator": "GPU",
    "colab": {
      "provenance": []
    },
    "gpuClass": "standard",
    "kernelspec": {
      "display_name": "Python 3",
      "name": "python3"
    },
    "language_info": {
      "name": "python"
    }
  },
  "nbformat": 4,
  "nbformat_minor": 0
}
